{
  "nbformat": 4,
  "nbformat_minor": 0,
  "metadata": {
    "colab": {
      "name": "Preventivas Programação.ipynb",
      "provenance": [],
      "collapsed_sections": [],
      "mount_file_id": "1DNtoryV-WhZ-CG8iifC4Yu_BymNg-Sht",
      "authorship_tag": "ABX9TyOvear7JXunIEpHp5v1oxne",
      "include_colab_link": true
    },
    "kernelspec": {
      "name": "python3",
      "display_name": "Python 3"
    },
    "language_info": {
      "name": "python"
    }
  },
  "cells": [
    {
      "cell_type": "markdown",
      "metadata": {
        "id": "view-in-github",
        "colab_type": "text"
      },
      "source": [
        "<a href=\"https://colab.research.google.com/github/leandrojgama/Preventivas-Analise-de-Dados/blob/main/Preventivas_Programa%C3%A7%C3%A3o.ipynb\" target=\"_parent\"><img src=\"https://colab.research.google.com/assets/colab-badge.svg\" alt=\"Open In Colab\"/></a>"
      ]
    },
    {
      "cell_type": "code",
      "source": [
        "!pip install xlsxwriter\n",
        "!pip install -U xlrd"
      ],
      "metadata": {
        "colab": {
          "base_uri": "https://localhost:8080/"
        },
        "id": "2LV6IIhZIX5I",
        "outputId": "32d30879-38e8-48d1-d150-6188c4403645"
      },
      "execution_count": null,
      "outputs": [
        {
          "output_type": "stream",
          "name": "stdout",
          "text": [
            "Collecting xlsxwriter\n",
            "  Downloading XlsxWriter-3.0.3-py3-none-any.whl (149 kB)\n",
            "\u001b[?25l\r\u001b[K     |██▏                             | 10 kB 24.3 MB/s eta 0:00:01\r\u001b[K     |████▍                           | 20 kB 14.0 MB/s eta 0:00:01\r\u001b[K     |██████▌                         | 30 kB 10.0 MB/s eta 0:00:01\r\u001b[K     |████████▊                       | 40 kB 8.5 MB/s eta 0:00:01\r\u001b[K     |███████████                     | 51 kB 4.6 MB/s eta 0:00:01\r\u001b[K     |█████████████                   | 61 kB 5.4 MB/s eta 0:00:01\r\u001b[K     |███████████████▎                | 71 kB 5.5 MB/s eta 0:00:01\r\u001b[K     |█████████████████▌              | 81 kB 5.4 MB/s eta 0:00:01\r\u001b[K     |███████████████████▋            | 92 kB 6.0 MB/s eta 0:00:01\r\u001b[K     |█████████████████████▉          | 102 kB 5.2 MB/s eta 0:00:01\r\u001b[K     |████████████████████████        | 112 kB 5.2 MB/s eta 0:00:01\r\u001b[K     |██████████████████████████▏     | 122 kB 5.2 MB/s eta 0:00:01\r\u001b[K     |████████████████████████████▍   | 133 kB 5.2 MB/s eta 0:00:01\r\u001b[K     |██████████████████████████████▋ | 143 kB 5.2 MB/s eta 0:00:01\r\u001b[K     |████████████████████████████████| 149 kB 5.2 MB/s \n",
            "\u001b[?25hInstalling collected packages: xlsxwriter\n",
            "Successfully installed xlsxwriter-3.0.3\n",
            "Requirement already satisfied: xlrd in /usr/local/lib/python3.7/dist-packages (1.1.0)\n",
            "Collecting xlrd\n",
            "  Downloading xlrd-2.0.1-py2.py3-none-any.whl (96 kB)\n",
            "\u001b[K     |████████████████████████████████| 96 kB 2.9 MB/s \n",
            "\u001b[?25hInstalling collected packages: xlrd\n",
            "  Attempting uninstall: xlrd\n",
            "    Found existing installation: xlrd 1.1.0\n",
            "    Uninstalling xlrd-1.1.0:\n",
            "      Successfully uninstalled xlrd-1.1.0\n",
            "Successfully installed xlrd-2.0.1\n"
          ]
        }
      ]
    },
    {
      "cell_type": "code",
      "source": [
        "from google.colab import data_table\n",
        "import numpy as np\n",
        "import pandas as pd\n",
        "from datetime import date,datetime\n",
        "from dateutil.relativedelta import relativedelta\n",
        "import xlsxwriter\n",
        "from google.colab import files\n",
        "import os"
      ],
      "metadata": {
        "id": "72lLO2JR7is_"
      },
      "execution_count": null,
      "outputs": []
    },
    {
      "cell_type": "markdown",
      "metadata": {
        "id": "MO4xR_HDhDu-"
      },
      "source": [
        "#Carregar Tabelas"
      ]
    },
    {
      "cell_type": "markdown",
      "source": [
        "##Tratando OS"
      ],
      "metadata": {
        "id": "shf8K-OQwnBq"
      }
    },
    {
      "cell_type": "code",
      "source": [
        "\n",
        "os.chdir('/content/drive/MyDrive/Colab Notebooks/FUNED AUTOMAÇÃO/Plano Input') \n",
        "print('Carregar arquivo com atividades em execução, pendente de aprovação e planejamento:',\n",
        "      'o arquivo deve ser .xlsx',sep='\\n')\n",
        "uploaded = files.upload()\n",
        "osname='OS'+datetime.now().strftime('_%d%m%y')+'.xls'\n",
        "os.rename(tuple(uploaded.keys())[0],osname)\n",
        "print(tuple(uploaded.keys())[0],'-rename->',osname)\n",
        "os_mp=pd.read_excel(osname)\n",
        "os_mp.head(1)\n",
        "#Trantando colunas\n",
        "col=list(os_mp.columns)\n",
        "l0=list(os_mp.iloc[0])\n",
        "#print(col,l0,sep='\\n')\n",
        "copy=['SA', 'TA', 'P']\n",
        "rewrite=['Identificador','Nome']\n",
        "for i in range(len(col)):\n",
        "  #--\n",
        "  if col[i] in copy:\n",
        "    l0[i]=col[i] \n",
        "  if (l0[i] in rewrite) and (col[i][:5]=='Ativi'):    \n",
        "    l0[i]='Atividade_'+l0[i]\n",
        "  if (l0[i] in rewrite) and (col[i][:5]=='Ativo'):    \n",
        "    l0[i]='Ativo_'+l0[i]\n",
        "  #--\n",
        "\n",
        "os_mp.columns=l0\n",
        "os_mp=os_mp.drop(0) \n",
        "  \n",
        "\n",
        "\n"
      ],
      "metadata": {
        "colab": {
          "resources": {
            "http://localhost:8080/nbextensions/google.colab/files.js": {
              "data": "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",
              "ok": true,
              "headers": [
                [
                  "content-type",
                  "application/javascript"
                ]
              ],
              "status": 200,
              "status_text": "OK"
            }
          },
          "base_uri": "https://localhost:8080/",
          "height": 123
        },
        "id": "EqIH0QTuww9F",
        "outputId": "bcabffdb-7ed8-4c70-c948-eee7b4f9c76b"
      },
      "execution_count": null,
      "outputs": [
        {
          "output_type": "stream",
          "name": "stdout",
          "text": [
            "Carregar arquivo com atividades em execução, pendente de aprovação e planejamento:\n",
            "o arquivo deve ser .xlsx\n"
          ]
        },
        {
          "output_type": "display_data",
          "data": {
            "text/plain": [
              "<IPython.core.display.HTML object>"
            ],
            "text/html": [
              "\n",
              "     <input type=\"file\" id=\"files-48cbaed3-68b8-4330-ac0c-38b634b301ea\" name=\"files[]\" multiple disabled\n",
              "        style=\"border:none\" />\n",
              "     <output id=\"result-48cbaed3-68b8-4330-ac0c-38b634b301ea\">\n",
              "      Upload widget is only available when the cell has been executed in the\n",
              "      current browser session. Please rerun this cell to enable.\n",
              "      </output>\n",
              "      <script src=\"/nbextensions/google.colab/files.js\"></script> "
            ]
          },
          "metadata": {}
        },
        {
          "output_type": "stream",
          "name": "stdout",
          "text": [
            "Saving Listagem_ Atividade - 7b7bcd87.xlsx to Listagem_ Atividade - 7b7bcd87.xlsx\n",
            "Listagem_ Atividade - 7b7bcd87.xlsx -rename-> OS_290422.xls\n"
          ]
        }
      ]
    },
    {
      "cell_type": "markdown",
      "source": [
        "##Tratando Plano"
      ],
      "metadata": {
        "id": "y3SuJcL7wAGh"
      }
    },
    {
      "cell_type": "code",
      "source": [
        "\n",
        "os.chdir('/content/drive/MyDrive/Colab Notebooks/FUNED AUTOMAÇÃO/Plano Input') \n",
        "print('Carregar arquivo com plano de manutenção preventiva:',\n",
        "      'O arquivo deve ser .xlsx',sep='\\n')\n",
        "uploaded = files.upload()\n",
        "planoname='Plano'+datetime.now().strftime('_%d%m%y')+'.xls'\n",
        "os.rename(tuple(uploaded.keys())[0],planoname)\n",
        "print(tuple(uploaded.keys())[0],'-rename->',planoname)\n",
        "plano=pd.read_excel(planoname)\n",
        "plano.head(1)\n",
        "#Trantando colunas\n",
        "col=list(plano.columns)\n",
        "l0=list(plano.iloc[0])\n",
        "#print(col,l0,sep='\\n')\n",
        "copy=['SA', 'TA', 'P']\n",
        "rewrite=['Identificador','Nome']\n",
        "for i in range(len(col)):\n",
        "  #--\n",
        "  if col[i] in copy:\n",
        "    l0[i]=col[i] \n",
        "  if (l0[i] in rewrite) and (col[i][:5]=='Ativi'):    \n",
        "    l0[i]='Atividade_'+l0[i]\n",
        "  if (l0[i] in rewrite) and (col[i][:5]=='Plano'):    \n",
        "    l0[i]='Plano_'+l0[i]\n",
        "  #--\n",
        "\n",
        "plano.columns=l0\n",
        "plano=plano.drop(0) \n",
        "plano=plano.drop(['Atividade_Nome'],axis=1)  \n",
        "  \n",
        "\n",
        "\n"
      ],
      "metadata": {
        "colab": {
          "resources": {
            "http://localhost:8080/nbextensions/google.colab/files.js": {
              "data": "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",
              "ok": true,
              "headers": [
                [
                  "content-type",
                  "application/javascript"
                ]
              ],
              "status": 200,
              "status_text": "OK"
            }
          },
          "base_uri": "https://localhost:8080/",
          "height": 123
        },
        "id": "FxLncszIwEcr",
        "outputId": "6835e3f4-3e53-4b00-9a22-b630a1d22bdd"
      },
      "execution_count": null,
      "outputs": [
        {
          "output_type": "stream",
          "name": "stdout",
          "text": [
            "Carregar arquivo com plano de manutenção preventiva:\n",
            "O arquivo deve ser .xlsx\n"
          ]
        },
        {
          "output_type": "display_data",
          "data": {
            "text/plain": [
              "<IPython.core.display.HTML object>"
            ],
            "text/html": [
              "\n",
              "     <input type=\"file\" id=\"files-20ffd74c-0d4e-4c3b-b0fd-6129301b234b\" name=\"files[]\" multiple disabled\n",
              "        style=\"border:none\" />\n",
              "     <output id=\"result-20ffd74c-0d4e-4c3b-b0fd-6129301b234b\">\n",
              "      Upload widget is only available when the cell has been executed in the\n",
              "      current browser session. Please rerun this cell to enable.\n",
              "      </output>\n",
              "      <script src=\"/nbextensions/google.colab/files.js\"></script> "
            ]
          },
          "metadata": {}
        },
        {
          "output_type": "stream",
          "name": "stdout",
          "text": [
            "Saving Listagem_ Plano de manutenção preventiva - 7b29821f.xlsx to Listagem_ Plano de manutenção preventiva - 7b29821f.xlsx\n",
            "Listagem_ Plano de manutenção preventiva - 7b29821f.xlsx -rename-> Plano_290422.xls\n"
          ]
        }
      ]
    },
    {
      "cell_type": "code",
      "metadata": {
        "id": "fQXpP3gJXpxQ"
      },
      "source": [
        "\n",
        "#Arquivo atividade\n",
        "#os_mp=pd.read_excel('/content/drive/MyDrive/Colab Notebooks/FUNED AUTOMAÇÃO/OS 29-03-2022.xlsx')\n",
        "os=os_mp[(os_mp.TA=='Atividade programada')&(os_mp.SA=='Execução')].copy()\n",
        "retirar=pd.read_excel('/content/drive/MyDrive/Colab Notebooks/FUNED AUTOMAÇÃO/Não_checar.xlsx')\n",
        "retirar=retirar[retirar['Status']=='n']\n",
        "mp=os_mp[(os_mp.TA=='Manutenção preventiva')].copy()\n",
        "#Arquivo plano\n",
        "#plano = pd.read_excel('/content/drive/MyDrive/Colab Notebooks/FUNED AUTOMAÇÃO/Plano de manutenção preventiva 29-03-22.xlsx')\n",
        "#plano.Atividade_Identificador=[x.split('-')[-1] for x in plano.Atividade_Identificador]#.str.split('-')[-1]\n",
        "plano[\"Status\"] =\"--\"\n",
        "plano[\"OS_Status\"] =\"--\"\n",
        "#plano[\"OS_Descrição\"] =\"--\"\n",
        "plano[\"data_status\"]=\"--\"\n",
        "plano[\"MP_Status\"]=\"--\"\n",
        "ind=plano[(plano[\"Plano_Identificador\"].str.contains(\"MP-SU-\")) | (plano[\"Plano_Nome\"].str.contains(\"RELSP\")  | \n",
        "                                                             plano['Plano_Identificador'].isin(retirar['Identificador']))].index\n",
        "plano.drop(ind,inplace=True)\n",
        "\n",
        "plano['Data da próxima execução']=pd.to_datetime(plano['Data da próxima execução'],format=\"%d/%m/%Y\")\n",
        "plano['Data da última execução']=pd.to_datetime(plano['Data da última execução'],format=\"%d/%m/%Y\")\n",
        "os=os.reset_index(drop=True)\n",
        "mp=mp.reset_index(drop=True)\n",
        "plano=plano.reset_index(drop=True)\n"
      ],
      "execution_count": null,
      "outputs": []
    },
    {
      "cell_type": "markdown",
      "metadata": {
        "id": "9yV7unfKhfaF"
      },
      "source": [
        "#Funções"
      ]
    },
    {
      "cell_type": "code",
      "metadata": {
        "id": "TNFApw1B7-VX",
        "colab": {
          "base_uri": "https://localhost:8080/",
          "height": 605
        },
        "outputId": "17f77bd6-37c8-43b2-d1b8-df3d8615f76e"
      },
      "source": [
        "def get_id_os(ativo):\n",
        "  ls_os=\"\"\n",
        "  if ativo in os['Ativo_Identificador'].values:\n",
        "    for ord in os['Atividade_Identificador'].loc[(os['Ativo_Identificador']==ativo)].values:\n",
        "      ls_os+=\",\"+ord    \n",
        "    ls_os=ls_os[1:]\n",
        "    return ls_os\n",
        "  else:\n",
        "    return \"--\"\n",
        "def mp_checa_frequencia(data_da_ultima,data_da_proxima,frequencia):\n",
        "    periodo={\"Mês(es)\":1,\"Ano(s)\":12,\"Dia(s)\":(1/30)}\n",
        "    du=data_da_ultima\n",
        "    dp=data_da_proxima\n",
        "    \n",
        "    fr=frequencia.split() \n",
        "    #print(fr)\n",
        "    #if fr[1]=='Dia(s)':\n",
        "    fr=int(fr[0])*float(periodo[fr[1]])  \n",
        "    umMes=relativedelta(months=+1)  \n",
        "    #Gerar data Referencia\n",
        "    if date.today().day>=18: \n",
        "      if  date.today().month==12:\n",
        "          dtToday=date((date.today().year+1),1,1) \n",
        "      else:\n",
        "        m=date.today().month+1\n",
        "        dtToday=date(date.today().year,m,1)    \n",
        "    else:\n",
        "     \n",
        "      dtToday=date(date.today().year,date.today().month,1)  \n",
        "\n",
        "    #dtToday=date(2021,12,1)\n",
        "    #print(type(du),'-',type(fr),'-',type(umMes))\n",
        "    if pd.isnull(du)==False: \n",
        "      intervalo=du+fr*umMes\n",
        "\n",
        "      if (dtToday<=intervalo):   \n",
        "           \n",
        "        if (intervalo.month==dp.month) and (intervalo.year==dp.year):\n",
        "          return \"Em dia\"  \n",
        "          # atualizado       \n",
        "        elif (intervalo.year==dp.year):\n",
        "          if (intervalo.month>dp.month):           \n",
        "            return \"Em dia - Adiantado\"\n",
        "          elif (intervalo.month<dp.month): \n",
        "            return \"Adiado\"\n",
        "        elif (intervalo.year>dp.year):\n",
        "            return \"Adiado\"\n",
        "          \n",
        "               \n",
        "      #----------------------------------------    \n",
        "      else:\n",
        "        return \"Cronograma travado\"\n",
        "    else:\n",
        "      return 'Não existem preventivas'\n",
        "      \n",
        "def mp_checa_pendencia_aprovacao(ativo): \n",
        "  ls_mp=\"\"\n",
        "  ls_mp_pen=''\n",
        "  ls_mp_prog=''\n",
        "  ls_mp_exe=''\n",
        "  ls_mp_rep=''\n",
        "  dup=''\n",
        "  duplicado=mp[mp.Ativo_Identificador.duplicated()]\n",
        "  if ativo in duplicado.values:\n",
        "    dup='**Duplicado** '\n",
        "\n",
        "\n",
        "  if ativo in mp['Ativo_Identificador'].values:\n",
        "    pendente=mp[(mp['SA']=='Aprovação do Relatório') ]\n",
        "    programacao=mp[(mp['SA']=='Planejamento') ]\n",
        "    execucao=mp[(mp['SA']=='Execução') ]\n",
        "    reprovada=mp[(mp['SA']=='Atividade reprovada') ]\n",
        "    if ativo in pendente['Ativo_Identificador'].values:\n",
        "\n",
        "      for ord in pendente['Atividade_Identificador'].loc[(pendente['Ativo_Identificador']==ativo)].values: \n",
        "              \n",
        "        ls_mp_pen+=\",\"+str(ord)   \n",
        "      ls_mp=dup+\"Pendente de aprovação: \"+ls_mp_pen[1:]\n",
        "    if ativo in programacao['Ativo_Identificador'].values:\n",
        "      \n",
        "      for ord in programacao['Atividade_Identificador'].loc[(programacao['Ativo_Identificador']==ativo)].values:   \n",
        "                     \n",
        "        ls_mp_prog+=\",\"+str(ord)   \n",
        "\n",
        "      ls_mp=dup+\"Planejamento: \"+ls_mp_prog[1:]\n",
        "    if ativo in reprovada['Ativo_Identificador'].values:\n",
        "      \n",
        "      for ord in reprovada['Atividade_Identificador'].loc[(reprovada['Ativo_Identificador']==ativo)].values:   \n",
        "                     \n",
        "        ls_mp_rep+=\",\"+str(ord)   \n",
        "\n",
        "      ls_mp=dup+\"Atividade reprovada: \"+ls_mp_prog[1:]\n",
        "    if ativo in execucao['Ativo_Identificador'].values:\n",
        "      \n",
        "      for ord in execucao['Atividade_Identificador'].loc[(execucao['Ativo_Identificador']==ativo)].values:   \n",
        "                     \n",
        "        ls_mp_exe+=\",\"+str(ord)   \n",
        "\n",
        "      ls_mp=dup+\"Execução: \"+ls_mp_exe[1:]\n",
        "    return ls_mp\n",
        "  else:\n",
        "    return dup+\"--\"\n",
        "\n",
        "\n",
        "\n",
        "def mp_checa_corretiva():\n",
        "  #periodo={\"Mês(es)\":1,\"Ano(s)\":12}\n",
        "  df1=plano.copy()\n",
        "  \n",
        "  for linha in range(0, len(df1)):        \n",
        "    ativo= df1['Plano_Identificador'].loc[linha]  \n",
        "    du=df1['Data da última execução'].loc[linha].date()\n",
        "    dp=df1['Data da próxima execução'].loc[linha].date()    \n",
        "    fr=df1['Frequência'].loc[linha]\n",
        "    \n",
        "    checkf=mp_checa_frequencia(du,dp,fr)\n",
        "    if len(ativo)==15:\n",
        "      if (ativo[6:] in os['Ativo_Identificador'].values) and (ativo[0:2]=='DI'):\n",
        "        df1['Status'].loc[linha]='Em corretiva'\n",
        "        df1['OS_Status'].loc[linha]=get_id_os(ativo[6:])\n",
        "      df1['MP_Status'].loc[linha]=mp_checa_pendencia_aprovacao(ativo[6:])\n",
        "      df1[\"data_status\"].loc[linha]=checkf\n",
        "      df1['Atividade_Identificador'].loc[linha]=ativo[6:9]\n",
        "    elif len(ativo)==12:          \n",
        "      if (ativo[3:] in os['Ativo_Identificador'].values) and (ativo[0:2]=='MP'):\n",
        "        df1['Status'].loc[linha]='Em corretiva'\n",
        "        df1['OS_Status'].loc[linha]=get_id_os(ativo[3:])\n",
        "      df1['MP_Status'].loc[linha]=mp_checa_pendencia_aprovacao(ativo[3:])\n",
        "      df1[\"data_status\"].loc[linha]=checkf\n",
        "      df1['Atividade_Identificador'].loc[linha]=ativo[3:6] \n",
        "    else:\n",
        "      print(len(ativo),'-',ativo+\"Fora do padrão\")  \n",
        "    df1.sort_values(by=['Data da próxima execução'],inplace=True)    \n",
        "\n",
        "    \n",
        "  return df1\n",
        "pl=mp_checa_corretiva()\n",
        "\n",
        "pl.head()\n",
        "\n",
        "#pl[pl.Status==\"Em corretiva\"].count()"
      ],
      "execution_count": null,
      "outputs": [
        {
          "output_type": "stream",
          "name": "stderr",
          "text": [
            "/usr/local/lib/python3.7/dist-packages/pandas/core/indexing.py:1732: SettingWithCopyWarning: \n",
            "A value is trying to be set on a copy of a slice from a DataFrame\n",
            "\n",
            "See the caveats in the documentation: https://pandas.pydata.org/pandas-docs/stable/user_guide/indexing.html#returning-a-view-versus-a-copy\n",
            "  self._setitem_single_block(indexer, value, name)\n"
          ]
        },
        {
          "output_type": "execute_result",
          "data": {
            "text/plain": [
              "          P Plano_Identificador Data da próxima execução  \\\n",
              "0  Atrasado        MP-CACDB-01A               2020-06-01   \n",
              "1  Atrasado        MP-LIOAC-04C               2020-06-11   \n",
              "2  Atrasado        MP-CSB-00005               2021-01-01   \n",
              "3  Atrasado        MP-IBCBF-02B               2021-03-01   \n",
              "4  Atrasado        MP-AUTFS-01A               2021-04-21   \n",
              "\n",
              "  Data da última execução Frequência Atividade_Identificador  \\\n",
              "0              2019-10-30  6 Mês(es)                     CAC   \n",
              "1              2019-12-11  6 Mês(es)                     LIO   \n",
              "2              2018-10-15  6 Mês(es)                     CSB   \n",
              "3              2018-07-10   1 Ano(s)                     IBC   \n",
              "4              2021-01-21  3 Mês(es)                     AUT   \n",
              "\n",
              "                                          Plano_Nome        Status  \\\n",
              "0  Manutenção Preventiva - Câmara Climática Binde...  Em corretiva   \n",
              "1  Manutenção Preventiva - Liofilizador Edwards P...  Em corretiva   \n",
              "2  Manutenção Preventiva - Cabine de Segurança Bi...            --   \n",
              "3  Manutenção Preventiva - Identificador Bacterio...  Em corretiva   \n",
              "4           Manutenção Preventiva - Autoclave - SPSF  Em corretiva   \n",
              "\n",
              "                                           OS_Status         data_status  \\\n",
              "0                        OS-OUT-011106,OS-MNT-020328  Cronograma travado   \n",
              "1  OS-MNT-013085,OS-MNT-012872,OS-MNT-017325,OS-M...  Cronograma travado   \n",
              "2                                                 --  Cronograma travado   \n",
              "3  OS-MNT-011985,OS-MNT-011177,OS-MNT-015726,OS-M...  Cronograma travado   \n",
              "4                        OS-MNT-018470,OS-MNT-020157  Cronograma travado   \n",
              "\n",
              "                     MP_Status  \n",
              "0        Atividade reprovada:   \n",
              "1        Atividade reprovada:   \n",
              "2  Execução: MP-Trescal-000299  \n",
              "3                           --  \n",
              "4        Atividade reprovada:   "
            ],
            "text/html": [
              "\n",
              "  <div id=\"df-2916fbf4-ea30-4b94-a9bd-b8f176a06e54\">\n",
              "    <div class=\"colab-df-container\">\n",
              "      <div>\n",
              "<style scoped>\n",
              "    .dataframe tbody tr th:only-of-type {\n",
              "        vertical-align: middle;\n",
              "    }\n",
              "\n",
              "    .dataframe tbody tr th {\n",
              "        vertical-align: top;\n",
              "    }\n",
              "\n",
              "    .dataframe thead th {\n",
              "        text-align: right;\n",
              "    }\n",
              "</style>\n",
              "<table border=\"1\" class=\"dataframe\">\n",
              "  <thead>\n",
              "    <tr style=\"text-align: right;\">\n",
              "      <th></th>\n",
              "      <th>P</th>\n",
              "      <th>Plano_Identificador</th>\n",
              "      <th>Data da próxima execução</th>\n",
              "      <th>Data da última execução</th>\n",
              "      <th>Frequência</th>\n",
              "      <th>Atividade_Identificador</th>\n",
              "      <th>Plano_Nome</th>\n",
              "      <th>Status</th>\n",
              "      <th>OS_Status</th>\n",
              "      <th>data_status</th>\n",
              "      <th>MP_Status</th>\n",
              "    </tr>\n",
              "  </thead>\n",
              "  <tbody>\n",
              "    <tr>\n",
              "      <th>0</th>\n",
              "      <td>Atrasado</td>\n",
              "      <td>MP-CACDB-01A</td>\n",
              "      <td>2020-06-01</td>\n",
              "      <td>2019-10-30</td>\n",
              "      <td>6 Mês(es)</td>\n",
              "      <td>CAC</td>\n",
              "      <td>Manutenção Preventiva - Câmara Climática Binde...</td>\n",
              "      <td>Em corretiva</td>\n",
              "      <td>OS-OUT-011106,OS-MNT-020328</td>\n",
              "      <td>Cronograma travado</td>\n",
              "      <td>Atividade reprovada:</td>\n",
              "    </tr>\n",
              "    <tr>\n",
              "      <th>1</th>\n",
              "      <td>Atrasado</td>\n",
              "      <td>MP-LIOAC-04C</td>\n",
              "      <td>2020-06-11</td>\n",
              "      <td>2019-12-11</td>\n",
              "      <td>6 Mês(es)</td>\n",
              "      <td>LIO</td>\n",
              "      <td>Manutenção Preventiva - Liofilizador Edwards P...</td>\n",
              "      <td>Em corretiva</td>\n",
              "      <td>OS-MNT-013085,OS-MNT-012872,OS-MNT-017325,OS-M...</td>\n",
              "      <td>Cronograma travado</td>\n",
              "      <td>Atividade reprovada:</td>\n",
              "    </tr>\n",
              "    <tr>\n",
              "      <th>2</th>\n",
              "      <td>Atrasado</td>\n",
              "      <td>MP-CSB-00005</td>\n",
              "      <td>2021-01-01</td>\n",
              "      <td>2018-10-15</td>\n",
              "      <td>6 Mês(es)</td>\n",
              "      <td>CSB</td>\n",
              "      <td>Manutenção Preventiva - Cabine de Segurança Bi...</td>\n",
              "      <td>--</td>\n",
              "      <td>--</td>\n",
              "      <td>Cronograma travado</td>\n",
              "      <td>Execução: MP-Trescal-000299</td>\n",
              "    </tr>\n",
              "    <tr>\n",
              "      <th>3</th>\n",
              "      <td>Atrasado</td>\n",
              "      <td>MP-IBCBF-02B</td>\n",
              "      <td>2021-03-01</td>\n",
              "      <td>2018-07-10</td>\n",
              "      <td>1 Ano(s)</td>\n",
              "      <td>IBC</td>\n",
              "      <td>Manutenção Preventiva - Identificador Bacterio...</td>\n",
              "      <td>Em corretiva</td>\n",
              "      <td>OS-MNT-011985,OS-MNT-011177,OS-MNT-015726,OS-M...</td>\n",
              "      <td>Cronograma travado</td>\n",
              "      <td>--</td>\n",
              "    </tr>\n",
              "    <tr>\n",
              "      <th>4</th>\n",
              "      <td>Atrasado</td>\n",
              "      <td>MP-AUTFS-01A</td>\n",
              "      <td>2021-04-21</td>\n",
              "      <td>2021-01-21</td>\n",
              "      <td>3 Mês(es)</td>\n",
              "      <td>AUT</td>\n",
              "      <td>Manutenção Preventiva - Autoclave - SPSF</td>\n",
              "      <td>Em corretiva</td>\n",
              "      <td>OS-MNT-018470,OS-MNT-020157</td>\n",
              "      <td>Cronograma travado</td>\n",
              "      <td>Atividade reprovada:</td>\n",
              "    </tr>\n",
              "  </tbody>\n",
              "</table>\n",
              "</div>\n",
              "      <button class=\"colab-df-convert\" onclick=\"convertToInteractive('df-2916fbf4-ea30-4b94-a9bd-b8f176a06e54')\"\n",
              "              title=\"Convert this dataframe to an interactive table.\"\n",
              "              style=\"display:none;\">\n",
              "        \n",
              "  <svg xmlns=\"http://www.w3.org/2000/svg\" height=\"24px\"viewBox=\"0 0 24 24\"\n",
              "       width=\"24px\">\n",
              "    <path d=\"M0 0h24v24H0V0z\" fill=\"none\"/>\n",
              "    <path d=\"M18.56 5.44l.94 2.06.94-2.06 2.06-.94-2.06-.94-.94-2.06-.94 2.06-2.06.94zm-11 1L8.5 8.5l.94-2.06 2.06-.94-2.06-.94L8.5 2.5l-.94 2.06-2.06.94zm10 10l.94 2.06.94-2.06 2.06-.94-2.06-.94-.94-2.06-.94 2.06-2.06.94z\"/><path d=\"M17.41 7.96l-1.37-1.37c-.4-.4-.92-.59-1.43-.59-.52 0-1.04.2-1.43.59L10.3 9.45l-7.72 7.72c-.78.78-.78 2.05 0 2.83L4 21.41c.39.39.9.59 1.41.59.51 0 1.02-.2 1.41-.59l7.78-7.78 2.81-2.81c.8-.78.8-2.07 0-2.86zM5.41 20L4 18.59l7.72-7.72 1.47 1.35L5.41 20z\"/>\n",
              "  </svg>\n",
              "      </button>\n",
              "      \n",
              "  <style>\n",
              "    .colab-df-container {\n",
              "      display:flex;\n",
              "      flex-wrap:wrap;\n",
              "      gap: 12px;\n",
              "    }\n",
              "\n",
              "    .colab-df-convert {\n",
              "      background-color: #E8F0FE;\n",
              "      border: none;\n",
              "      border-radius: 50%;\n",
              "      cursor: pointer;\n",
              "      display: none;\n",
              "      fill: #1967D2;\n",
              "      height: 32px;\n",
              "      padding: 0 0 0 0;\n",
              "      width: 32px;\n",
              "    }\n",
              "\n",
              "    .colab-df-convert:hover {\n",
              "      background-color: #E2EBFA;\n",
              "      box-shadow: 0px 1px 2px rgba(60, 64, 67, 0.3), 0px 1px 3px 1px rgba(60, 64, 67, 0.15);\n",
              "      fill: #174EA6;\n",
              "    }\n",
              "\n",
              "    [theme=dark] .colab-df-convert {\n",
              "      background-color: #3B4455;\n",
              "      fill: #D2E3FC;\n",
              "    }\n",
              "\n",
              "    [theme=dark] .colab-df-convert:hover {\n",
              "      background-color: #434B5C;\n",
              "      box-shadow: 0px 1px 3px 1px rgba(0, 0, 0, 0.15);\n",
              "      filter: drop-shadow(0px 1px 2px rgba(0, 0, 0, 0.3));\n",
              "      fill: #FFFFFF;\n",
              "    }\n",
              "  </style>\n",
              "\n",
              "      <script>\n",
              "        const buttonEl =\n",
              "          document.querySelector('#df-2916fbf4-ea30-4b94-a9bd-b8f176a06e54 button.colab-df-convert');\n",
              "        buttonEl.style.display =\n",
              "          google.colab.kernel.accessAllowed ? 'block' : 'none';\n",
              "\n",
              "        async function convertToInteractive(key) {\n",
              "          const element = document.querySelector('#df-2916fbf4-ea30-4b94-a9bd-b8f176a06e54');\n",
              "          const dataTable =\n",
              "            await google.colab.kernel.invokeFunction('convertToInteractive',\n",
              "                                                     [key], {});\n",
              "          if (!dataTable) return;\n",
              "\n",
              "          const docLinkHtml = 'Like what you see? Visit the ' +\n",
              "            '<a target=\"_blank\" href=https://colab.research.google.com/notebooks/data_table.ipynb>data table notebook</a>'\n",
              "            + ' to learn more about interactive tables.';\n",
              "          element.innerHTML = '';\n",
              "          dataTable['output_type'] = 'display_data';\n",
              "          await google.colab.output.renderOutput(dataTable, element);\n",
              "          const docLink = document.createElement('div');\n",
              "          docLink.innerHTML = docLinkHtml;\n",
              "          element.appendChild(docLink);\n",
              "        }\n",
              "      </script>\n",
              "    </div>\n",
              "  </div>\n",
              "  "
            ]
          },
          "metadata": {},
          "execution_count": 31
        }
      ]
    },
    {
      "cell_type": "code",
      "source": [
        "\"\"\"return \"Em dia\"  \n",
        "          # atualizado       \n",
        "        elif (intervalo.year==dp.year):\n",
        "          if (intervalo.month>dp.month):           \n",
        "            return \"Adiado\"\n",
        "          elif (intervalo.month<dp.month): \n",
        "            return Em dia - Adiantado \"\"\"\n",
        "pl[(pl['data_status']==\"Em dia\")]\n",
        "#pl.isnull()"
      ],
      "metadata": {
        "colab": {
          "base_uri": "https://localhost:8080/",
          "height": 837
        },
        "id": "pUWtexL-FzFW",
        "outputId": "3b262b16-5a7e-4c47-9b59-95e86ee96f90"
      },
      "execution_count": null,
      "outputs": [
        {
          "output_type": "execute_result",
          "data": {
            "text/plain": [
              "           P Plano_Identificador Data da próxima execução  \\\n",
              "145   Em dia        MP-CSB-00087               2022-05-03   \n",
              "146   Em dia     DI-MP-CTE-00001               2022-05-04   \n",
              "147   Em dia     DI-MP-EMB-00001               2022-05-04   \n",
              "148   Em dia     DI-MP-SEL-00006               2022-05-04   \n",
              "149   Em dia        MP-CAP-00014               2022-05-06   \n",
              "...      ...                 ...                      ...   \n",
              "1110  Em dia        MP-ESI-00023               2023-04-25   \n",
              "1111  Em dia        MP-ESI-00022               2023-04-25   \n",
              "1112  Em dia        MP-MIC-00086               2023-04-25   \n",
              "1113  Em dia        MP-HOM-00002               2023-04-26   \n",
              "1114  Em dia        MP-CNT-00054               2023-04-26   \n",
              "\n",
              "     Data da última execução Frequência Atividade_Identificador  \\\n",
              "145               2021-11-03  6 Mês(es)                     CSB   \n",
              "146               2022-02-04  3 Mês(es)                     CTE   \n",
              "147               2022-02-04  3 Mês(es)                     EMB   \n",
              "148               2022-02-04  3 Mês(es)                     SEL   \n",
              "149               2021-05-06   1 Ano(s)                     CAP   \n",
              "...                      ...        ...                     ...   \n",
              "1110              2022-04-25   1 Ano(s)                     ESI   \n",
              "1111              2022-04-25   1 Ano(s)                     ESI   \n",
              "1112              2022-04-25   1 Ano(s)                     MIC   \n",
              "1113              2022-04-26   1 Ano(s)                     HOM   \n",
              "1114              2022-04-26   1 Ano(s)                     CNT   \n",
              "\n",
              "                                             Plano_Nome Status OS_Status  \\\n",
              "145   FS- Manutenção Preventiva - Cabine de Seguranç...     --        --   \n",
              "146   CD- Manutenção Preventiva - Cintadeira  Marche...     --        --   \n",
              "147   CD- Manutenção Preventiva - Emblistadeira Camp...     --        --   \n",
              "148   CD- Manutenção Preventiva - Seladora Fabrima U...     --        --   \n",
              "149   FA- Manutenção Preventiva - Capela de Exaustão...     --        --   \n",
              "...                                                 ...    ...       ...   \n",
              "1110    LC- Manutenção Preventiva - Estufa de Incubação     --        --   \n",
              "1111  LC- Manutenção Preventiva - Estufa de Incubaçã...     --        --   \n",
              "1112  MS- Manutenção Preventiva - Microscópio Biológ...     --        --   \n",
              "1113  SM- Manutenção Preventiva - Homogeneizador de ...     --        --   \n",
              "1114  SM- Manutenção Preventiva - Centrífuga de Banc...     --        --   \n",
              "\n",
              "     data_status                        MP_Status  \n",
              "145       Em dia  Planejamento: MP-Trescal-000393  \n",
              "146       Em dia   Planejamento: MP-DI-SMC-002449  \n",
              "147       Em dia   Planejamento: MP-DI-SMC-002451  \n",
              "148       Em dia   Planejamento: MP-DI-SMC-002466  \n",
              "149       Em dia  Planejamento: MP-Trescal-000394  \n",
              "...          ...                              ...  \n",
              "1110      Em dia                               --  \n",
              "1111      Em dia                               --  \n",
              "1112      Em dia                               --  \n",
              "1113      Em dia                               --  \n",
              "1114      Em dia                               --  \n",
              "\n",
              "[886 rows x 11 columns]"
            ],
            "text/html": [
              "\n",
              "  <div id=\"df-af61bd39-cf0a-4b71-94cf-d45ad45329ad\">\n",
              "    <div class=\"colab-df-container\">\n",
              "      <div>\n",
              "<style scoped>\n",
              "    .dataframe tbody tr th:only-of-type {\n",
              "        vertical-align: middle;\n",
              "    }\n",
              "\n",
              "    .dataframe tbody tr th {\n",
              "        vertical-align: top;\n",
              "    }\n",
              "\n",
              "    .dataframe thead th {\n",
              "        text-align: right;\n",
              "    }\n",
              "</style>\n",
              "<table border=\"1\" class=\"dataframe\">\n",
              "  <thead>\n",
              "    <tr style=\"text-align: right;\">\n",
              "      <th></th>\n",
              "      <th>P</th>\n",
              "      <th>Plano_Identificador</th>\n",
              "      <th>Data da próxima execução</th>\n",
              "      <th>Data da última execução</th>\n",
              "      <th>Frequência</th>\n",
              "      <th>Atividade_Identificador</th>\n",
              "      <th>Plano_Nome</th>\n",
              "      <th>Status</th>\n",
              "      <th>OS_Status</th>\n",
              "      <th>data_status</th>\n",
              "      <th>MP_Status</th>\n",
              "    </tr>\n",
              "  </thead>\n",
              "  <tbody>\n",
              "    <tr>\n",
              "      <th>145</th>\n",
              "      <td>Em dia</td>\n",
              "      <td>MP-CSB-00087</td>\n",
              "      <td>2022-05-03</td>\n",
              "      <td>2021-11-03</td>\n",
              "      <td>6 Mês(es)</td>\n",
              "      <td>CSB</td>\n",
              "      <td>FS- Manutenção Preventiva - Cabine de Seguranç...</td>\n",
              "      <td>--</td>\n",
              "      <td>--</td>\n",
              "      <td>Em dia</td>\n",
              "      <td>Planejamento: MP-Trescal-000393</td>\n",
              "    </tr>\n",
              "    <tr>\n",
              "      <th>146</th>\n",
              "      <td>Em dia</td>\n",
              "      <td>DI-MP-CTE-00001</td>\n",
              "      <td>2022-05-04</td>\n",
              "      <td>2022-02-04</td>\n",
              "      <td>3 Mês(es)</td>\n",
              "      <td>CTE</td>\n",
              "      <td>CD- Manutenção Preventiva - Cintadeira  Marche...</td>\n",
              "      <td>--</td>\n",
              "      <td>--</td>\n",
              "      <td>Em dia</td>\n",
              "      <td>Planejamento: MP-DI-SMC-002449</td>\n",
              "    </tr>\n",
              "    <tr>\n",
              "      <th>147</th>\n",
              "      <td>Em dia</td>\n",
              "      <td>DI-MP-EMB-00001</td>\n",
              "      <td>2022-05-04</td>\n",
              "      <td>2022-02-04</td>\n",
              "      <td>3 Mês(es)</td>\n",
              "      <td>EMB</td>\n",
              "      <td>CD- Manutenção Preventiva - Emblistadeira Camp...</td>\n",
              "      <td>--</td>\n",
              "      <td>--</td>\n",
              "      <td>Em dia</td>\n",
              "      <td>Planejamento: MP-DI-SMC-002451</td>\n",
              "    </tr>\n",
              "    <tr>\n",
              "      <th>148</th>\n",
              "      <td>Em dia</td>\n",
              "      <td>DI-MP-SEL-00006</td>\n",
              "      <td>2022-05-04</td>\n",
              "      <td>2022-02-04</td>\n",
              "      <td>3 Mês(es)</td>\n",
              "      <td>SEL</td>\n",
              "      <td>CD- Manutenção Preventiva - Seladora Fabrima U...</td>\n",
              "      <td>--</td>\n",
              "      <td>--</td>\n",
              "      <td>Em dia</td>\n",
              "      <td>Planejamento: MP-DI-SMC-002466</td>\n",
              "    </tr>\n",
              "    <tr>\n",
              "      <th>149</th>\n",
              "      <td>Em dia</td>\n",
              "      <td>MP-CAP-00014</td>\n",
              "      <td>2022-05-06</td>\n",
              "      <td>2021-05-06</td>\n",
              "      <td>1 Ano(s)</td>\n",
              "      <td>CAP</td>\n",
              "      <td>FA- Manutenção Preventiva - Capela de Exaustão...</td>\n",
              "      <td>--</td>\n",
              "      <td>--</td>\n",
              "      <td>Em dia</td>\n",
              "      <td>Planejamento: MP-Trescal-000394</td>\n",
              "    </tr>\n",
              "    <tr>\n",
              "      <th>...</th>\n",
              "      <td>...</td>\n",
              "      <td>...</td>\n",
              "      <td>...</td>\n",
              "      <td>...</td>\n",
              "      <td>...</td>\n",
              "      <td>...</td>\n",
              "      <td>...</td>\n",
              "      <td>...</td>\n",
              "      <td>...</td>\n",
              "      <td>...</td>\n",
              "      <td>...</td>\n",
              "    </tr>\n",
              "    <tr>\n",
              "      <th>1110</th>\n",
              "      <td>Em dia</td>\n",
              "      <td>MP-ESI-00023</td>\n",
              "      <td>2023-04-25</td>\n",
              "      <td>2022-04-25</td>\n",
              "      <td>1 Ano(s)</td>\n",
              "      <td>ESI</td>\n",
              "      <td>LC- Manutenção Preventiva - Estufa de Incubação</td>\n",
              "      <td>--</td>\n",
              "      <td>--</td>\n",
              "      <td>Em dia</td>\n",
              "      <td>--</td>\n",
              "    </tr>\n",
              "    <tr>\n",
              "      <th>1111</th>\n",
              "      <td>Em dia</td>\n",
              "      <td>MP-ESI-00022</td>\n",
              "      <td>2023-04-25</td>\n",
              "      <td>2022-04-25</td>\n",
              "      <td>1 Ano(s)</td>\n",
              "      <td>ESI</td>\n",
              "      <td>LC- Manutenção Preventiva - Estufa de Incubaçã...</td>\n",
              "      <td>--</td>\n",
              "      <td>--</td>\n",
              "      <td>Em dia</td>\n",
              "      <td>--</td>\n",
              "    </tr>\n",
              "    <tr>\n",
              "      <th>1112</th>\n",
              "      <td>Em dia</td>\n",
              "      <td>MP-MIC-00086</td>\n",
              "      <td>2023-04-25</td>\n",
              "      <td>2022-04-25</td>\n",
              "      <td>1 Ano(s)</td>\n",
              "      <td>MIC</td>\n",
              "      <td>MS- Manutenção Preventiva - Microscópio Biológ...</td>\n",
              "      <td>--</td>\n",
              "      <td>--</td>\n",
              "      <td>Em dia</td>\n",
              "      <td>--</td>\n",
              "    </tr>\n",
              "    <tr>\n",
              "      <th>1113</th>\n",
              "      <td>Em dia</td>\n",
              "      <td>MP-HOM-00002</td>\n",
              "      <td>2023-04-26</td>\n",
              "      <td>2022-04-26</td>\n",
              "      <td>1 Ano(s)</td>\n",
              "      <td>HOM</td>\n",
              "      <td>SM- Manutenção Preventiva - Homogeneizador de ...</td>\n",
              "      <td>--</td>\n",
              "      <td>--</td>\n",
              "      <td>Em dia</td>\n",
              "      <td>--</td>\n",
              "    </tr>\n",
              "    <tr>\n",
              "      <th>1114</th>\n",
              "      <td>Em dia</td>\n",
              "      <td>MP-CNT-00054</td>\n",
              "      <td>2023-04-26</td>\n",
              "      <td>2022-04-26</td>\n",
              "      <td>1 Ano(s)</td>\n",
              "      <td>CNT</td>\n",
              "      <td>SM- Manutenção Preventiva - Centrífuga de Banc...</td>\n",
              "      <td>--</td>\n",
              "      <td>--</td>\n",
              "      <td>Em dia</td>\n",
              "      <td>--</td>\n",
              "    </tr>\n",
              "  </tbody>\n",
              "</table>\n",
              "<p>886 rows × 11 columns</p>\n",
              "</div>\n",
              "      <button class=\"colab-df-convert\" onclick=\"convertToInteractive('df-af61bd39-cf0a-4b71-94cf-d45ad45329ad')\"\n",
              "              title=\"Convert this dataframe to an interactive table.\"\n",
              "              style=\"display:none;\">\n",
              "        \n",
              "  <svg xmlns=\"http://www.w3.org/2000/svg\" height=\"24px\"viewBox=\"0 0 24 24\"\n",
              "       width=\"24px\">\n",
              "    <path d=\"M0 0h24v24H0V0z\" fill=\"none\"/>\n",
              "    <path d=\"M18.56 5.44l.94 2.06.94-2.06 2.06-.94-2.06-.94-.94-2.06-.94 2.06-2.06.94zm-11 1L8.5 8.5l.94-2.06 2.06-.94-2.06-.94L8.5 2.5l-.94 2.06-2.06.94zm10 10l.94 2.06.94-2.06 2.06-.94-2.06-.94-.94-2.06-.94 2.06-2.06.94z\"/><path d=\"M17.41 7.96l-1.37-1.37c-.4-.4-.92-.59-1.43-.59-.52 0-1.04.2-1.43.59L10.3 9.45l-7.72 7.72c-.78.78-.78 2.05 0 2.83L4 21.41c.39.39.9.59 1.41.59.51 0 1.02-.2 1.41-.59l7.78-7.78 2.81-2.81c.8-.78.8-2.07 0-2.86zM5.41 20L4 18.59l7.72-7.72 1.47 1.35L5.41 20z\"/>\n",
              "  </svg>\n",
              "      </button>\n",
              "      \n",
              "  <style>\n",
              "    .colab-df-container {\n",
              "      display:flex;\n",
              "      flex-wrap:wrap;\n",
              "      gap: 12px;\n",
              "    }\n",
              "\n",
              "    .colab-df-convert {\n",
              "      background-color: #E8F0FE;\n",
              "      border: none;\n",
              "      border-radius: 50%;\n",
              "      cursor: pointer;\n",
              "      display: none;\n",
              "      fill: #1967D2;\n",
              "      height: 32px;\n",
              "      padding: 0 0 0 0;\n",
              "      width: 32px;\n",
              "    }\n",
              "\n",
              "    .colab-df-convert:hover {\n",
              "      background-color: #E2EBFA;\n",
              "      box-shadow: 0px 1px 2px rgba(60, 64, 67, 0.3), 0px 1px 3px 1px rgba(60, 64, 67, 0.15);\n",
              "      fill: #174EA6;\n",
              "    }\n",
              "\n",
              "    [theme=dark] .colab-df-convert {\n",
              "      background-color: #3B4455;\n",
              "      fill: #D2E3FC;\n",
              "    }\n",
              "\n",
              "    [theme=dark] .colab-df-convert:hover {\n",
              "      background-color: #434B5C;\n",
              "      box-shadow: 0px 1px 3px 1px rgba(0, 0, 0, 0.15);\n",
              "      filter: drop-shadow(0px 1px 2px rgba(0, 0, 0, 0.3));\n",
              "      fill: #FFFFFF;\n",
              "    }\n",
              "  </style>\n",
              "\n",
              "      <script>\n",
              "        const buttonEl =\n",
              "          document.querySelector('#df-af61bd39-cf0a-4b71-94cf-d45ad45329ad button.colab-df-convert');\n",
              "        buttonEl.style.display =\n",
              "          google.colab.kernel.accessAllowed ? 'block' : 'none';\n",
              "\n",
              "        async function convertToInteractive(key) {\n",
              "          const element = document.querySelector('#df-af61bd39-cf0a-4b71-94cf-d45ad45329ad');\n",
              "          const dataTable =\n",
              "            await google.colab.kernel.invokeFunction('convertToInteractive',\n",
              "                                                     [key], {});\n",
              "          if (!dataTable) return;\n",
              "\n",
              "          const docLinkHtml = 'Like what you see? Visit the ' +\n",
              "            '<a target=\"_blank\" href=https://colab.research.google.com/notebooks/data_table.ipynb>data table notebook</a>'\n",
              "            + ' to learn more about interactive tables.';\n",
              "          element.innerHTML = '';\n",
              "          dataTable['output_type'] = 'display_data';\n",
              "          await google.colab.output.renderOutput(dataTable, element);\n",
              "          const docLink = document.createElement('div');\n",
              "          docLink.innerHTML = docLinkHtml;\n",
              "          element.appendChild(docLink);\n",
              "        }\n",
              "      </script>\n",
              "    </div>\n",
              "  </div>\n",
              "  "
            ]
          },
          "metadata": {},
          "execution_count": 34
        }
      ]
    },
    {
      "cell_type": "markdown",
      "source": [
        "#Exportar e Filtros"
      ],
      "metadata": {
        "id": "xL6LlsGK3nde"
      }
    },
    {
      "cell_type": "code",
      "source": [
        "# Criando os dataframes Pandas para armazenar os dados \n",
        "df1 = pl.sort_values(by=['Data da próxima execução'])\n",
        "df2 = pl[(pl.data_status=='Cronograma travado')&(pl.Status=='--')].sort_values(by=['Data da próxima execução'])\n",
        "\n",
        "df3 = pl[(pl.data_status=='Cronograma travado')&(pl.Status=='Em corretiva')].sort_values(by=['Data da próxima execução'])\n",
        "\n",
        "# Usando o ExcelWriter, cria um doc .xlsx, usando engine='xlsxwriter'\n",
        "writer = pd.ExcelWriter('/content/drive/MyDrive/Colab Notebooks/FUNED AUTOMAÇÃO/Plano Output/plano'+\n",
        "                        datetime.now().strftime('_%d-%m-%y')+'.xlsx', engine='xlsxwriter')\n",
        "\n",
        "# Armazena cada df em uma planilha diferente do mesmo arquivo\n",
        "\n",
        "df1.to_excel(writer, sheet_name='Geral',index=False)\n",
        "df2.to_excel(writer, sheet_name='Programar-Sem Pendencias',index=False)\n",
        "df3.to_excel(writer, sheet_name='Em corretiva',index=False)\n",
        "\n",
        "# Fecha o ExcelWriter e gera o arquivo .xlsx\n",
        "writer.save()"
      ],
      "metadata": {
        "id": "wERD1SXn7cs1"
      },
      "execution_count": null,
      "outputs": []
    },
    {
      "cell_type": "code",
      "source": [
        "pl.to_excel('/content/drive/MyDrive/Colab Notebooks/FUNED AUTOMAÇÃO/mp_status.xlsx',index=False)\n"
      ],
      "metadata": {
        "id": "XE7Dmol5Q4Kq"
      },
      "execution_count": null,
      "outputs": []
    },
    {
      "cell_type": "code",
      "metadata": {
        "id": "cZZAkeITV70q"
      },
      "source": [
        "mp_status=pl.loc[pl['MP_Status'].str.contains('Pendente')]\n",
        "mp_status.to_excel('/content/drive/MyDrive/Colab Notebooks/FUNED AUTOMAÇÃO/mp_status.xlsx',index=False)  \n",
        "#mp_status.to_excel(r'Path to store the exported excel file\\File Name.xlsx', index = False)"
      ],
      "execution_count": null,
      "outputs": []
    },
    {
      "cell_type": "code",
      "metadata": {
        "colab": {
          "base_uri": "https://localhost:8080/"
        },
        "id": "MJgCu5MYltng",
        "outputId": "eb3ec005-0d68-4381-805c-6b5e24f21611"
      },
      "source": [
        "pendente=mp[(mp['SA']=='Aprovação do Relatório') ]\n",
        "programado=mp[(mp['SA']=='Planejamento') ]\n",
        "execucao=mp[(mp.SA != 'Planejamento') & (mp.SA != 'Aprovação do Relatório')]\n",
        "pendente\n",
        "print(mp.shape,\n",
        "      '-',programado.shape,'-'\n",
        "      ,pendente.shape,'-'\n",
        "      ,programacao.shape)"
      ],
      "execution_count": null,
      "outputs": [
        {
          "output_type": "stream",
          "name": "stdout",
          "text": [
            "(794, 10) - (384, 10) - (94, 10) - (316, 10)\n"
          ]
        }
      ]
    },
    {
      "cell_type": "markdown",
      "metadata": {
        "id": "1K-E--3zjaBm"
      },
      "source": [
        "#Teste Filtros\n"
      ]
    },
    {
      "cell_type": "code",
      "source": [
        "equip=['CAP/CAB','CSB','CPE','CAP','FXL']\n",
        "x=pl[(pl.Atividade_Identificador.isin(equip)) & (pl.data_status!='Em dia') ]\n",
        "x.to_excel('/content/drive/MyDrive/Colab Notebooks/FUNED AUTOMAÇÃO/MP-Pendencias Trescal.xlsx',index=False)  "
      ],
      "metadata": {
        "id": "dii8quPzFqyt"
      },
      "execution_count": null,
      "outputs": []
    },
    {
      "cell_type": "code",
      "metadata": {
        "id": "b76hBD9z60zR",
        "colab": {
          "base_uri": "https://localhost:8080/",
          "height": 306
        },
        "outputId": "2ccde551-8326-434a-e8ea-6b5bb4047463"
      },
      "source": [
        "ind=pl[(pl[\"Identificador\"].str.contains(\"PS-\")) & (pl[\"Status\"]==\"Em corretiva\")]\n",
        "ind\n",
        "#plano.info()"
      ],
      "execution_count": null,
      "outputs": [
        {
          "output_type": "execute_result",
          "data": {
            "text/html": [
              "<div>\n",
              "<style scoped>\n",
              "    .dataframe tbody tr th:only-of-type {\n",
              "        vertical-align: middle;\n",
              "    }\n",
              "\n",
              "    .dataframe tbody tr th {\n",
              "        vertical-align: top;\n",
              "    }\n",
              "\n",
              "    .dataframe thead th {\n",
              "        text-align: right;\n",
              "    }\n",
              "</style>\n",
              "<table border=\"1\" class=\"dataframe\">\n",
              "  <thead>\n",
              "    <tr style=\"text-align: right;\">\n",
              "      <th></th>\n",
              "      <th>P</th>\n",
              "      <th>Identificador</th>\n",
              "      <th>Data da próxima execução</th>\n",
              "      <th>Data da última execução</th>\n",
              "      <th>Frequência</th>\n",
              "      <th>Nome</th>\n",
              "      <th>Status</th>\n",
              "      <th>OS_Status</th>\n",
              "      <th>data_status</th>\n",
              "    </tr>\n",
              "  </thead>\n",
              "  <tbody>\n",
              "    <tr>\n",
              "      <th>1</th>\n",
              "      <td>Atrasado</td>\n",
              "      <td>DI-MP-APFPS-03A</td>\n",
              "      <td>2021-07-01</td>\n",
              "      <td>2021-06-09</td>\n",
              "      <td>3 Mês(es)</td>\n",
              "      <td>Manutenção Preventiva - Ultrafiltro Millipore ...</td>\n",
              "      <td>Em corretiva</td>\n",
              "      <td>OS-OUT-011682</td>\n",
              "      <td>Cronograma travado</td>\n",
              "    </tr>\n",
              "    <tr>\n",
              "      <th>4</th>\n",
              "      <td>Atrasado</td>\n",
              "      <td>DI-MP-AUTPS-02A</td>\n",
              "      <td>2021-07-14</td>\n",
              "      <td>2021-05-14</td>\n",
              "      <td>2 Mês(es)</td>\n",
              "      <td>Manutenção Preventiva - Autoclave Cisa</td>\n",
              "      <td>Em corretiva</td>\n",
              "      <td>OS-MNT-015850,OS-MNT-016883</td>\n",
              "      <td>Cronograma travado</td>\n",
              "    </tr>\n",
              "    <tr>\n",
              "      <th>43</th>\n",
              "      <td>Em dia</td>\n",
              "      <td>DI-MP-OSRPS-01A</td>\n",
              "      <td>2021-08-09</td>\n",
              "      <td>2021-06-09</td>\n",
              "      <td>2 Mês(es)</td>\n",
              "      <td>Manutenção Preventiva - Osmose Reversa Baumer</td>\n",
              "      <td>Em corretiva</td>\n",
              "      <td>OS-MNT-017757</td>\n",
              "      <td>Em dia</td>\n",
              "    </tr>\n",
              "    <tr>\n",
              "      <th>50</th>\n",
              "      <td>Em dia</td>\n",
              "      <td>DI-MP-SPAPS-02A</td>\n",
              "      <td>2021-08-01</td>\n",
              "      <td>2021-02-22</td>\n",
              "      <td>6 Mês(es)</td>\n",
              "      <td>Manutenção Preventiva - Sistema de Purificação...</td>\n",
              "      <td>Em corretiva</td>\n",
              "      <td>OS-MNT-013101,OS-MNT-013103,OS-MNT-014007,OS-M...</td>\n",
              "      <td>Em dia</td>\n",
              "    </tr>\n",
              "    <tr>\n",
              "      <th>65</th>\n",
              "      <td>Em dia</td>\n",
              "      <td>DI-MP-TAQPS-06A</td>\n",
              "      <td>2021-09-09</td>\n",
              "      <td>2021-06-09</td>\n",
              "      <td>3 Mês(es)</td>\n",
              "      <td>Manutenção Preventiva - Tanque Móvel A Imuno</td>\n",
              "      <td>Em corretiva</td>\n",
              "      <td>OS-MNT-017849</td>\n",
              "      <td>Em dia</td>\n",
              "    </tr>\n",
              "  </tbody>\n",
              "</table>\n",
              "</div>"
            ],
            "text/plain": [
              "           P  ...         data_status\n",
              "1   Atrasado  ...  Cronograma travado\n",
              "4   Atrasado  ...  Cronograma travado\n",
              "43    Em dia  ...              Em dia\n",
              "50    Em dia  ...              Em dia\n",
              "65    Em dia  ...              Em dia\n",
              "\n",
              "[5 rows x 9 columns]"
            ]
          },
          "metadata": {},
          "execution_count": 205
        }
      ]
    },
    {
      "cell_type": "code",
      "metadata": {
        "id": "2dge9dYGhmsb"
      },
      "source": [
        "mes=pl.loc[(pl[\"Data da próxima execução\"]>='2021-12-01') & (pl[\"Data da próxima execução\"]<='2021-12-31')] #& ((pl.data_status=='Fora da frequencia') | (pl.data_status=='Cronograma travado'))]\n",
        "#mes.to_excel('/content/drive/MyDrive/Colab Notebooks/FUNED AUTOMAÇÃO/Preventivas hoje.xlsx',index=False)\n",
        "#help(plano[\"Data da próxima execução\"])\n",
        "mes.sort_values(by=['Data da próxima execução']).to_excel('/content/drive/MyDrive/Colab Notebooks/FUNED AUTOMAÇÃO/Preventivas 01-12-21_12-21.xlsx',index=False)"
      ],
      "execution_count": null,
      "outputs": []
    },
    {
      "cell_type": "code",
      "metadata": {
        "id": "PFVZAmxkObw2"
      },
      "source": [
        "#Geral SMC\n",
        "pl.sort_values(by=['Data da próxima execução']).to_excel('/content/drive/MyDrive/Colab Notebooks/FUNED AUTOMAÇÃO/Preventivas Geral SMC.xlsx',index=False)"
      ],
      "execution_count": null,
      "outputs": []
    },
    {
      "cell_type": "markdown",
      "metadata": {
        "id": "S3i1nOlOjwrH"
      },
      "source": [
        "#Teste"
      ]
    },
    {
      "cell_type": "code",
      "metadata": {
        "id": "VZXUAWD3AWPP",
        "colab": {
          "base_uri": "https://localhost:8080/"
        },
        "outputId": "9890b520-4aa5-4740-f4b2-b555a4b55adb"
      },
      "source": [
        "def mp_checa_frequencia(data_da_ultima,data_da_proxima,frequencia):\n",
        "    periodo={\"Mês(es)\":1,\"Ano(s)\":12}\n",
        "    du=data_da_ultima\n",
        "    dp=data_da_proxima\n",
        "    \n",
        "    fr=frequencia.split() \n",
        "    fr=int(fr[0])*int(periodo[fr[1]])  \n",
        "    umMes=relativedelta(months=+1)  \n",
        "    #Gerar data Referencia\n",
        "    if date.today().day>=18:\n",
        "      m=date.today().month+1\n",
        "      dtToday=date(date.today().year,m,date.today().day)    \n",
        "    else:\n",
        "      dtToday=date.today()\n",
        "\n",
        "    #dtToday=date(2021,12,1)\n",
        "    print(type(du),'-',type(fr),'-',type(umMes))\n",
        "    if pd.isnull(du)==False: \n",
        "      intervalo=du+fr*umMes\n",
        "\n",
        "      if (dtToday<=dp):      \n",
        "        if (intervalo.month<=dp.month) and (intervalo.year<=dp.year):\n",
        "          return \"Em dia\"\n",
        "        else:\n",
        "          return \"Fora da frequencia\"\n",
        "      else:\n",
        "        return \"Cronograma travado\"\n",
        "    else:\n",
        "      return 'Não existem preventivas'\n",
        "a='2021-01-28'\n",
        "a=datetime.strptime(a, '%Y-%m-%d').date()\n",
        "p='2022-01-05'\n",
        "p=datetime.strptime(p, '%Y-%m-%d').date()\n",
        "#print(type(a),'-',type(p))\n",
        "#print(a,'-',p)\n",
        "print(mp_checa_frequencia(a,p,'1 Ano(s)'))"
      ],
      "execution_count": null,
      "outputs": [
        {
          "output_type": "stream",
          "name": "stdout",
          "text": [
            "<class 'datetime.date'> - <class 'int'> - <class 'dateutil.relativedelta.relativedelta'>\n",
            "Em dia\n"
          ]
        }
      ]
    },
    {
      "cell_type": "code",
      "metadata": {
        "colab": {
          "base_uri": "https://localhost:8080/"
        },
        "id": "TRyO7f8GrxdR",
        "outputId": "a88bcaf8-5a19-4c46-eb53-92b532643c31"
      },
      "source": [
        "hoje = date(2020,2,1)\n",
        "umDia = relativedelta(days=+1)\n",
        "amanha = hoje + 30*umDia\n",
        "amanha\n",
        "hoje."
      ],
      "execution_count": null,
      "outputs": [
        {
          "output_type": "execute_result",
          "data": {
            "text/plain": [
              "datetime.date(2020, 2, 1)"
            ]
          },
          "metadata": {},
          "execution_count": 68
        }
      ]
    },
    {
      "cell_type": "code",
      "metadata": {
        "colab": {
          "base_uri": "https://localhost:8080/",
          "height": 235
        },
        "id": "tnXnjIonfRiK",
        "outputId": "6f21bc48-dd99-404b-f924-a7dddd2b3e7d"
      },
      "source": [
        "\n",
        "a='2019-03-29'\n",
        "a=datetime.strptime(a, '%Y-%m-%d').date()\n",
        "p='2022-01-01'\n",
        "p=datetime.strptime(p, '%Y-%m-%d').date()\n",
        "print(type(a),'-',type(p))\n",
        "if p> a:\n",
        "  print('sim')\n",
        "else:\n",
        "  print('Não')\n",
        "a.day=p.day\n",
        "print(a)\n"
      ],
      "execution_count": null,
      "outputs": [
        {
          "output_type": "error",
          "ename": "NameError",
          "evalue": "ignored",
          "traceback": [
            "\u001b[0;31m---------------------------------------------------------------------------\u001b[0m",
            "\u001b[0;31mNameError\u001b[0m                                 Traceback (most recent call last)",
            "\u001b[0;32m<ipython-input-1-e98d41541d57>\u001b[0m in \u001b[0;36m<module>\u001b[0;34m()\u001b[0m\n\u001b[1;32m      1\u001b[0m \u001b[0;34m\u001b[0m\u001b[0m\n\u001b[1;32m      2\u001b[0m \u001b[0ma\u001b[0m\u001b[0;34m=\u001b[0m\u001b[0;34m'2019-03-29'\u001b[0m\u001b[0;34m\u001b[0m\u001b[0;34m\u001b[0m\u001b[0m\n\u001b[0;32m----> 3\u001b[0;31m \u001b[0ma\u001b[0m\u001b[0;34m=\u001b[0m\u001b[0mdatetime\u001b[0m\u001b[0;34m.\u001b[0m\u001b[0mstrptime\u001b[0m\u001b[0;34m(\u001b[0m\u001b[0ma\u001b[0m\u001b[0;34m,\u001b[0m \u001b[0;34m'%Y-%m-%d'\u001b[0m\u001b[0;34m)\u001b[0m\u001b[0;34m.\u001b[0m\u001b[0mdate\u001b[0m\u001b[0;34m(\u001b[0m\u001b[0;34m)\u001b[0m\u001b[0;34m\u001b[0m\u001b[0;34m\u001b[0m\u001b[0m\n\u001b[0m\u001b[1;32m      4\u001b[0m \u001b[0mp\u001b[0m\u001b[0;34m=\u001b[0m\u001b[0;34m'2022-01-01'\u001b[0m\u001b[0;34m\u001b[0m\u001b[0;34m\u001b[0m\u001b[0m\n\u001b[1;32m      5\u001b[0m \u001b[0mp\u001b[0m\u001b[0;34m=\u001b[0m\u001b[0mdatetime\u001b[0m\u001b[0;34m.\u001b[0m\u001b[0mstrptime\u001b[0m\u001b[0;34m(\u001b[0m\u001b[0mp\u001b[0m\u001b[0;34m,\u001b[0m \u001b[0;34m'%Y-%m-%d'\u001b[0m\u001b[0;34m)\u001b[0m\u001b[0;34m.\u001b[0m\u001b[0mdate\u001b[0m\u001b[0;34m(\u001b[0m\u001b[0;34m)\u001b[0m\u001b[0;34m\u001b[0m\u001b[0;34m\u001b[0m\u001b[0m\n",
            "\u001b[0;31mNameError\u001b[0m: name 'datetime' is not defined"
          ]
        }
      ]
    },
    {
      "cell_type": "code",
      "metadata": {
        "colab": {
          "base_uri": "https://localhost:8080/",
          "height": 148
        },
        "id": "hnWCPglrJyWo",
        "outputId": "64d5bc80-a6fc-4ce1-dacd-e9a0e579b462"
      },
      "source": [
        "#mp[mp.Ativo_Identificador.duplicated()]\n",
        "pl[pl.Identificador.str.contains('AUTU5-02A')]"
      ],
      "execution_count": null,
      "outputs": [
        {
          "output_type": "execute_result",
          "data": {
            "text/html": [
              "<div>\n",
              "<style scoped>\n",
              "    .dataframe tbody tr th:only-of-type {\n",
              "        vertical-align: middle;\n",
              "    }\n",
              "\n",
              "    .dataframe tbody tr th {\n",
              "        vertical-align: top;\n",
              "    }\n",
              "\n",
              "    .dataframe thead th {\n",
              "        text-align: right;\n",
              "    }\n",
              "</style>\n",
              "<table border=\"1\" class=\"dataframe\">\n",
              "  <thead>\n",
              "    <tr style=\"text-align: right;\">\n",
              "      <th></th>\n",
              "      <th>P</th>\n",
              "      <th>Identificador</th>\n",
              "      <th>Data da próxima execução</th>\n",
              "      <th>Data da última execução</th>\n",
              "      <th>Frequência</th>\n",
              "      <th>Nome</th>\n",
              "      <th>Status</th>\n",
              "      <th>OS_Status</th>\n",
              "      <th>OS_Descrição</th>\n",
              "      <th>data_status</th>\n",
              "      <th>MP_Status</th>\n",
              "    </tr>\n",
              "  </thead>\n",
              "  <tbody>\n",
              "    <tr>\n",
              "      <th>404</th>\n",
              "      <td>Atrasado</td>\n",
              "      <td>MP-AUTU5-02A</td>\n",
              "      <td>2021-06-15</td>\n",
              "      <td>2020-12-15</td>\n",
              "      <td>6 Mês(es)</td>\n",
              "      <td>Manutenção Preventiva - Autoclave Cisa - Sala ...</td>\n",
              "      <td>Em corretiva</td>\n",
              "      <td>OS-OUT-011298</td>\n",
              "      <td>--</td>\n",
              "      <td>Cronograma travado</td>\n",
              "      <td>Pendente de aprovação: MP-SMC-006407</td>\n",
              "    </tr>\n",
              "  </tbody>\n",
              "</table>\n",
              "</div>"
            ],
            "text/plain": [
              "            P  ...                             MP_Status\n",
              "404  Atrasado  ...  Pendente de aprovação: MP-SMC-006407\n",
              "\n",
              "[1 rows x 11 columns]"
            ]
          },
          "metadata": {},
          "execution_count": 9
        }
      ]
    },
    {
      "cell_type": "code",
      "metadata": {
        "colab": {
          "base_uri": "https://localhost:8080/"
        },
        "id": "yfYVYHhftU77",
        "outputId": "4b9f846f-51bb-411d-ed96-ce6c7a972c47"
      },
      "source": [
        "def mp_checa_pendencia_aprovacao(ativo):\n",
        "  '''\n",
        "  ls_mp=\"\"\n",
        "  if ativo in mp['SA'].values:\n",
        "    for ord in mp['Atividade_Identificador'].loc[(mp['Ativo_Identificador']==ativo)].values:\n",
        "      ls_mp+=\",\"+ord    \n",
        "    ls_mp=ls_mp[1:]\n",
        "    return \"Pendente de aprovação\"+ls_os\n",
        "  else:\n",
        "    return \"--\"\n",
        "  '''\n",
        "#-----------------------\n",
        "  ls_mp=\"\"\n",
        "  ls_mp_pen=''\n",
        "  ls_mp_prog=''\n",
        "  if ativo in mp['Ativo_Identificador'].values:\n",
        "    pendente=mp[(mp['Ativo_Identificador']==ativo) & (mp['SA']=='Aprovação do Relatório') ]\n",
        "    programado=mp[(mp['Ativo_Identificador']==ativo) & (mp['SA']!='Aprovação do Relatório') ]\n",
        "    if ativo in pendente['Ativo_Identificador'].values:\n",
        "      \n",
        "      for ord in pendente['Atividade_Identificador'].loc[(pendente['Ativo_Identificador']==ativo)].values: \n",
        "        print(type(ord),'--',ord)       \n",
        "        ls_mp_pen+=\",\"+str(ord)   \n",
        "      ls_mp=\"Pendente de aprovação: \"+ls_mp_pen[1:]\n",
        "    if ativo in programado['Ativo_Identificador'].values:\n",
        "\n",
        "      for ord in programado['Atividade_Identificador'].loc[(programado['Ativo_Identificador']==ativo)].values:   \n",
        "        print(type(ord),'--',ord)             \n",
        "        ls_mp_prog+=\",\"+str(ord)    \n",
        "      ls_mp=\"Execução: \"+ls_mp_prog[1:]\n",
        "    return ls_mp\n",
        "  else:\n",
        "    return \"--\"\n",
        "print( mp_checa_pendencia_aprovacao('AUT-00007'))"
      ],
      "execution_count": null,
      "outputs": [
        {
          "output_type": "stream",
          "name": "stdout",
          "text": [
            "sim 2021-12-28\n"
          ]
        }
      ]
    },
    {
      "cell_type": "code",
      "metadata": {
        "id": "K1vi7ZrRJmLj"
      },
      "source": [
        "h=date.today()\n",
        "x=date(2021, 11, 19)\n",
        "if date.today().day>=18:\n",
        "  m=date.today().month+1\n",
        "  y=date(date.today().year,m,date.today().day)\n",
        "  print('sim',y)\n",
        "else:\n",
        "  print(date.today())"
      ],
      "execution_count": null,
      "outputs": []
    },
    {
      "cell_type": "code",
      "metadata": {
        "colab": {
          "base_uri": "https://localhost:8080/"
        },
        "id": "VeBBvc_VNwYF",
        "outputId": "877c47fb-696a-4417-fec2-1f79399385a8"
      },
      "source": [
        "\n",
        "def calD(di,dff):\n",
        "  if di.month<dff.month:\n",
        "    return \"sim\"\n",
        "def func(): \n",
        "  print(calD(dti,dtp))\n",
        "dtToday=date(2021,8,1)\n",
        "dt=date(2021,7,14)\n",
        "dti=plano['Data da última execução'].loc[0].date()\n",
        "dtp=plano['Data da próxima execução'].loc[0].date()\n",
        "func()\n",
        "print(dti,dtp)\n"
      ],
      "execution_count": null,
      "outputs": [
        {
          "output_type": "stream",
          "name": "stdout",
          "text": [
            "sim\n",
            "2021-06-09 2021-09-09\n"
          ]
        }
      ]
    },
    {
      "cell_type": "code",
      "metadata": {
        "colab": {
          "base_uri": "https://localhost:8080/"
        },
        "id": "s11-bLBwjUkL",
        "outputId": "6dacf1ac-7d8d-490f-c1fe-3a64bf4733ba"
      },
      "source": [
        "for linha in range(0, 1):\n",
        "  periodo={\"Mês(es)\":1,\"Ano(s)\":12,}\n",
        "  dp=plano['Data da próxima execução'].iloc[linha].date()\n",
        "  du=plano['Data da última execução'].iloc[linha].date()\n",
        "  fr=plano['Frequência'].loc[linha].split() \n",
        "  dtToday=date(2021,8,1)\n",
        "  print(fr)\n",
        "  fr=int(fr[0])*int(periodo[fr[1]])\n",
        "  #plano.iloc[linha].head()\n",
        "  umMes=relativedelta(months=+1)\n",
        "  plano.iloc[0]\n",
        "  \n",
        "  ln=str(linha)\n",
        "  if pd.isnull(du)==False:\n",
        "    intervalo=du+fr*umMes\n",
        "    print(\"Intervalo:\"+str(intervalo)+\"//Du: \"+str(du)+\"//DP:\"+str(dp))\n",
        "    if (dtToday<=dp) and (dtToday<=dp):\n",
        "        print(\"Entrou1\")\n",
        "        if (intervalo.month<=dp.month) and (intervalo.year<=dp.year):\n",
        "          print(ln+\"Em dia\")\n",
        "          pass\n",
        "        else:\n",
        "          print(ln+\"Fora da frequencia\")\n",
        "    else:\n",
        "      print(ln+\"Cronograma travado\")\n",
        "  else:\n",
        "    print(\"Entrou2\")\n",
        "    if (date.today().month>=dp.month) and (date.today().year>=dp.year):\n",
        "      print(ln+\"Em dia\")        \n",
        "    else:\n",
        "      print(ln+\"Cronograma travado\")"
      ],
      "execution_count": null,
      "outputs": [
        {
          "output_type": "stream",
          "name": "stdout",
          "text": [
            "['3', 'Mês(es)']\n",
            "Intervalo:2021-09-09//Du: 2021-06-09//DP:2021-09-09\n",
            "Entrou1\n",
            "0Em dia\n"
          ]
        }
      ]
    }
  ]
}